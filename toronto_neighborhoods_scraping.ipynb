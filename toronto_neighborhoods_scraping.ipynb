{
 "cells": [
  {
   "cell_type": "markdown",
   "metadata": {},
   "source": [
    "This is a simple web scraping code to get data about neighborhoods in Toronto from a Wikipedia html table (postal code, burough and neighborhood name) into a Pandas dataframe. The most interesting part of the code collapses the dataframe to aggregate all neighborhood names within the same Burough separating using commmas.\n",
    "\n",
    "Rules of the game:\n",
    "The dataframe will consist of three columns: PostalCode, Borough, and Neighborhood.\n",
    "\n",
    "I only process the cells that have an assigned borough. Ignore cells with a borough that is Not assigned.\n",
    "\n",
    "More than one neighborhood can exist in one postal code area. For example, in the table on the Wikipedia page, you will notice that M5A is listed twice and has two neighborhoods: Harbourfront and Regent Park. These two rows will be combined into one row with the neighborhoods separated with a comma as shown in row 11 in the above table.\n",
    "\n",
    "If a cell has a borough but a Not assigned neighborhood, then the neighborhood will be the same as the borough. So for the 9th cell in the table on the Wikipedia page, the value of the Borough and the Neighborhood columns will be Queen's Park.\n",
    "\n",
    "Clean your Notebook and add Markdown cells to explain your work and any assumptions you are making.\n",
    "In the last cell of your notebook, use the .shape method to print the number of rows of your dataframe."
   ]
  },
  {
   "cell_type": "code",
   "execution_count": 6,
   "metadata": {},
   "outputs": [
    {
     "name": "stdout",
     "output_type": "stream",
     "text": [
      "['Postcode', 'Borough', 'Neighbourhood']\n"
     ]
    },
    {
     "data": {
      "text/plain": [
       "(84, 3)"
      ]
     },
     "execution_count": 6,
     "metadata": {},
     "output_type": "execute_result"
    }
   ],
   "source": [
    "import requests\n",
    "import pandas as pd\n",
    "from bs4 import BeautifulSoup\n",
    "import re\n",
    "\n",
    "\n",
    "url='https://en.wikipedia.org/wiki/List_of_postal_codes_of_Canada:_M'\n",
    "html_st=requests.get(url)\n",
    "soup  = BeautifulSoup(html_st.text,'html.parser')\n",
    "soup1 = soup.table\n",
    "soup2 = soup1.find('tbody')\n",
    "soup3 = soup2.find_all('tr')\n",
    "\n",
    "data=[]\n",
    "varnames=[]\n",
    "first=1\n",
    "for row in soup3:\n",
    " cols = row.find_all('td')\n",
    " cols = [ele.text.strip() for ele in cols]\n",
    " if len(cols)==0:\n",
    "  varnames  = row.find_all('th')\n",
    "  varnames = [ele.text.strip() for ele in varnames]\n",
    "  #varnames.append([ele for ele in cols if ele])\n",
    " else:\n",
    "  if cols[1]!='Not assigned' and cols[2]=='Not assigned':\n",
    "   #when the burogh name is assignmed but the neighborhood is empty, assign the burough to neighborhood.\n",
    "   cols[2]=cols[1]\n",
    "  if cols[0]!='None' and cols[1]!='Not assigned':\n",
    "   if first==1:\n",
    "    data=[cols]\n",
    "    first=0\n",
    "   else:\n",
    "    data.append([ele for ele in cols if ele]) # Get rid of empty values\n",
    "df1 = pd.DataFrame(data,columns=varnames)\n",
    "df=df1.sort_values(by=varnames[1:2])\n",
    "\n",
    "print(varnames)\n",
    "j=0\n",
    "dfn=pd.DataFrame(columns=varnames)\n",
    "acc=df.Neighbourhood[0]\n",
    "for i in range(2,len(df)):\n",
    " if df.Borough[i]==df.Borough[i-1]:\n",
    "  acc=acc+\", \"+df.Neighbourhood[i]\n",
    " else:\n",
    "  aux1=df.Borough[i-1]\n",
    "  aux2=df.Postcode[i-1]\n",
    "  mini=pd.DataFrame.from_records([(aux2, aux1, acc)],columns=varnames)\n",
    "  dfn=dfn.append(mini,ignore_index=True)\n",
    "  j=j+1\n",
    "  acc=df.Neighbourhood[i]\n",
    "dfn.shape"
   ]
  },
  {
   "cell_type": "code",
   "execution_count": null,
   "metadata": {},
   "outputs": [],
   "source": []
  }
 ],
 "metadata": {
  "kernelspec": {
   "display_name": "Python 3",
   "language": "python",
   "name": "python3"
  },
  "language_info": {
   "codemirror_mode": {
    "name": "ipython",
    "version": 3
   },
   "file_extension": ".py",
   "mimetype": "text/x-python",
   "name": "python",
   "nbconvert_exporter": "python",
   "pygments_lexer": "ipython3",
   "version": "3.7.0"
  }
 },
 "nbformat": 4,
 "nbformat_minor": 2
}
